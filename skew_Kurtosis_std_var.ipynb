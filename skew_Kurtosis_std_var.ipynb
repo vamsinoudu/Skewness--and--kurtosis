{
 "cells": [
  {
   "cell_type": "code",
   "execution_count": 42,
   "id": "9f7ace8f",
   "metadata": {},
   "outputs": [],
   "source": [
    "import numpy as np\n",
    "\n",
    "import pandas as pd\n",
    "\n",
    "%matplotlib inline\n",
    "\n",
    "import matplotlib.pyplot as plt\n",
    "\n",
    "import seaborn as sns\n",
    "\n"
   ]
  },
  {
   "cell_type": "code",
   "execution_count": 4,
   "id": "0f77387a",
   "metadata": {},
   "outputs": [
    {
     "data": {
      "text/html": [
       "<div>\n",
       "<style scoped>\n",
       "    .dataframe tbody tr th:only-of-type {\n",
       "        vertical-align: middle;\n",
       "    }\n",
       "\n",
       "    .dataframe tbody tr th {\n",
       "        vertical-align: top;\n",
       "    }\n",
       "\n",
       "    .dataframe thead th {\n",
       "        text-align: right;\n",
       "    }\n",
       "</style>\n",
       "<table border=\"1\" class=\"dataframe\">\n",
       "  <thead>\n",
       "    <tr style=\"text-align: right;\">\n",
       "      <th></th>\n",
       "      <th>member_id</th>\n",
       "      <th>loan_amnt</th>\n",
       "      <th>funded_amnt</th>\n",
       "      <th>funded_amnt_inv</th>\n",
       "      <th>term</th>\n",
       "      <th>batch_enrolled</th>\n",
       "      <th>int_rate</th>\n",
       "      <th>grade</th>\n",
       "      <th>sub_grade</th>\n",
       "      <th>emp_title</th>\n",
       "      <th>...</th>\n",
       "      <th>collections_12_mths_ex_med</th>\n",
       "      <th>mths_since_last_major_derog</th>\n",
       "      <th>application_type</th>\n",
       "      <th>verification_status_joint</th>\n",
       "      <th>last_week_pay</th>\n",
       "      <th>acc_now_delinq</th>\n",
       "      <th>tot_coll_amt</th>\n",
       "      <th>tot_cur_bal</th>\n",
       "      <th>total_rev_hi_lim</th>\n",
       "      <th>loan_status</th>\n",
       "    </tr>\n",
       "  </thead>\n",
       "  <tbody>\n",
       "    <tr>\n",
       "      <th>0</th>\n",
       "      <td>58189336</td>\n",
       "      <td>14350</td>\n",
       "      <td>14350</td>\n",
       "      <td>14350.00000</td>\n",
       "      <td>36 months</td>\n",
       "      <td>NaN</td>\n",
       "      <td>19.19</td>\n",
       "      <td>E</td>\n",
       "      <td>E3</td>\n",
       "      <td>clerk</td>\n",
       "      <td>...</td>\n",
       "      <td>0.0</td>\n",
       "      <td>74.0</td>\n",
       "      <td>INDIVIDUAL</td>\n",
       "      <td>NaN</td>\n",
       "      <td>26th week</td>\n",
       "      <td>0.0</td>\n",
       "      <td>0.0</td>\n",
       "      <td>28699.0</td>\n",
       "      <td>30800.0</td>\n",
       "      <td>0</td>\n",
       "    </tr>\n",
       "    <tr>\n",
       "      <th>1</th>\n",
       "      <td>70011223</td>\n",
       "      <td>4800</td>\n",
       "      <td>4800</td>\n",
       "      <td>4800.00000</td>\n",
       "      <td>36 months</td>\n",
       "      <td>BAT1586599</td>\n",
       "      <td>10.99</td>\n",
       "      <td>B</td>\n",
       "      <td>B4</td>\n",
       "      <td>Human Resources Specialist</td>\n",
       "      <td>...</td>\n",
       "      <td>0.0</td>\n",
       "      <td>NaN</td>\n",
       "      <td>INDIVIDUAL</td>\n",
       "      <td>NaN</td>\n",
       "      <td>9th week</td>\n",
       "      <td>0.0</td>\n",
       "      <td>0.0</td>\n",
       "      <td>9974.0</td>\n",
       "      <td>32900.0</td>\n",
       "      <td>0</td>\n",
       "    </tr>\n",
       "    <tr>\n",
       "      <th>2</th>\n",
       "      <td>70255675</td>\n",
       "      <td>10000</td>\n",
       "      <td>10000</td>\n",
       "      <td>10000.00000</td>\n",
       "      <td>36 months</td>\n",
       "      <td>BAT1586599</td>\n",
       "      <td>7.26</td>\n",
       "      <td>A</td>\n",
       "      <td>A4</td>\n",
       "      <td>Driver</td>\n",
       "      <td>...</td>\n",
       "      <td>0.0</td>\n",
       "      <td>NaN</td>\n",
       "      <td>INDIVIDUAL</td>\n",
       "      <td>NaN</td>\n",
       "      <td>9th week</td>\n",
       "      <td>0.0</td>\n",
       "      <td>65.0</td>\n",
       "      <td>38295.0</td>\n",
       "      <td>34900.0</td>\n",
       "      <td>0</td>\n",
       "    </tr>\n",
       "    <tr>\n",
       "      <th>3</th>\n",
       "      <td>1893936</td>\n",
       "      <td>15000</td>\n",
       "      <td>15000</td>\n",
       "      <td>15000.00000</td>\n",
       "      <td>36 months</td>\n",
       "      <td>BAT4808022</td>\n",
       "      <td>19.72</td>\n",
       "      <td>D</td>\n",
       "      <td>D5</td>\n",
       "      <td>Us office of Personnel Management</td>\n",
       "      <td>...</td>\n",
       "      <td>0.0</td>\n",
       "      <td>NaN</td>\n",
       "      <td>INDIVIDUAL</td>\n",
       "      <td>NaN</td>\n",
       "      <td>135th week</td>\n",
       "      <td>0.0</td>\n",
       "      <td>0.0</td>\n",
       "      <td>55564.0</td>\n",
       "      <td>24700.0</td>\n",
       "      <td>0</td>\n",
       "    </tr>\n",
       "    <tr>\n",
       "      <th>4</th>\n",
       "      <td>7652106</td>\n",
       "      <td>16000</td>\n",
       "      <td>16000</td>\n",
       "      <td>16000.00000</td>\n",
       "      <td>36 months</td>\n",
       "      <td>BAT2833642</td>\n",
       "      <td>10.64</td>\n",
       "      <td>B</td>\n",
       "      <td>B2</td>\n",
       "      <td>LAUSD-HOLLYWOOD HIGH SCHOOL</td>\n",
       "      <td>...</td>\n",
       "      <td>0.0</td>\n",
       "      <td>NaN</td>\n",
       "      <td>INDIVIDUAL</td>\n",
       "      <td>NaN</td>\n",
       "      <td>96th week</td>\n",
       "      <td>0.0</td>\n",
       "      <td>0.0</td>\n",
       "      <td>47159.0</td>\n",
       "      <td>47033.0</td>\n",
       "      <td>0</td>\n",
       "    </tr>\n",
       "    <tr>\n",
       "      <th>...</th>\n",
       "      <td>...</td>\n",
       "      <td>...</td>\n",
       "      <td>...</td>\n",
       "      <td>...</td>\n",
       "      <td>...</td>\n",
       "      <td>...</td>\n",
       "      <td>...</td>\n",
       "      <td>...</td>\n",
       "      <td>...</td>\n",
       "      <td>...</td>\n",
       "      <td>...</td>\n",
       "      <td>...</td>\n",
       "      <td>...</td>\n",
       "      <td>...</td>\n",
       "      <td>...</td>\n",
       "      <td>...</td>\n",
       "      <td>...</td>\n",
       "      <td>...</td>\n",
       "      <td>...</td>\n",
       "      <td>...</td>\n",
       "      <td>...</td>\n",
       "    </tr>\n",
       "    <tr>\n",
       "      <th>269995</th>\n",
       "      <td>35623179</td>\n",
       "      <td>4200</td>\n",
       "      <td>4200</td>\n",
       "      <td>4200.00000</td>\n",
       "      <td>36 months</td>\n",
       "      <td>NaN</td>\n",
       "      <td>13.98</td>\n",
       "      <td>C</td>\n",
       "      <td>C3</td>\n",
       "      <td>Medical Advocate Driver</td>\n",
       "      <td>...</td>\n",
       "      <td>0.0</td>\n",
       "      <td>NaN</td>\n",
       "      <td>INDIVIDUAL</td>\n",
       "      <td>NaN</td>\n",
       "      <td>61th week</td>\n",
       "      <td>0.0</td>\n",
       "      <td>0.0</td>\n",
       "      <td>80784.0</td>\n",
       "      <td>7200.0</td>\n",
       "      <td>0</td>\n",
       "    </tr>\n",
       "    <tr>\n",
       "      <th>269996</th>\n",
       "      <td>10326761</td>\n",
       "      <td>20000</td>\n",
       "      <td>20000</td>\n",
       "      <td>20000.00000</td>\n",
       "      <td>36 months</td>\n",
       "      <td>BAT2575549</td>\n",
       "      <td>13.67</td>\n",
       "      <td>B</td>\n",
       "      <td>B5</td>\n",
       "      <td>Senior System Administrator</td>\n",
       "      <td>...</td>\n",
       "      <td>0.0</td>\n",
       "      <td>NaN</td>\n",
       "      <td>INDIVIDUAL</td>\n",
       "      <td>NaN</td>\n",
       "      <td>69th week</td>\n",
       "      <td>0.0</td>\n",
       "      <td>0.0</td>\n",
       "      <td>26082.0</td>\n",
       "      <td>59200.0</td>\n",
       "      <td>0</td>\n",
       "    </tr>\n",
       "    <tr>\n",
       "      <th>269997</th>\n",
       "      <td>656855</td>\n",
       "      <td>12000</td>\n",
       "      <td>12000</td>\n",
       "      <td>11127.82258</td>\n",
       "      <td>36 months</td>\n",
       "      <td>NaN</td>\n",
       "      <td>7.88</td>\n",
       "      <td>A</td>\n",
       "      <td>A5</td>\n",
       "      <td>Applied Information Sciences  Inc.</td>\n",
       "      <td>...</td>\n",
       "      <td>0.0</td>\n",
       "      <td>NaN</td>\n",
       "      <td>INDIVIDUAL</td>\n",
       "      <td>NaN</td>\n",
       "      <td>113th week</td>\n",
       "      <td>0.0</td>\n",
       "      <td>NaN</td>\n",
       "      <td>NaN</td>\n",
       "      <td>NaN</td>\n",
       "      <td>1</td>\n",
       "    </tr>\n",
       "    <tr>\n",
       "      <th>269998</th>\n",
       "      <td>14679847</td>\n",
       "      <td>22000</td>\n",
       "      <td>22000</td>\n",
       "      <td>22000.00000</td>\n",
       "      <td>36 months</td>\n",
       "      <td>NaN</td>\n",
       "      <td>12.49</td>\n",
       "      <td>B</td>\n",
       "      <td>B4</td>\n",
       "      <td>AMI Administrator</td>\n",
       "      <td>...</td>\n",
       "      <td>0.0</td>\n",
       "      <td>NaN</td>\n",
       "      <td>INDIVIDUAL</td>\n",
       "      <td>NaN</td>\n",
       "      <td>96th week</td>\n",
       "      <td>0.0</td>\n",
       "      <td>0.0</td>\n",
       "      <td>130449.0</td>\n",
       "      <td>34500.0</td>\n",
       "      <td>0</td>\n",
       "    </tr>\n",
       "    <tr>\n",
       "      <th>269999</th>\n",
       "      <td>66255702</td>\n",
       "      <td>15625</td>\n",
       "      <td>15625</td>\n",
       "      <td>15625.00000</td>\n",
       "      <td>60 months</td>\n",
       "      <td>BAT2252229</td>\n",
       "      <td>25.78</td>\n",
       "      <td>F</td>\n",
       "      <td>F5</td>\n",
       "      <td>21 dealer</td>\n",
       "      <td>...</td>\n",
       "      <td>0.0</td>\n",
       "      <td>NaN</td>\n",
       "      <td>INDIVIDUAL</td>\n",
       "      <td>NaN</td>\n",
       "      <td>13th week</td>\n",
       "      <td>0.0</td>\n",
       "      <td>0.0</td>\n",
       "      <td>267292.0</td>\n",
       "      <td>49800.0</td>\n",
       "      <td>0</td>\n",
       "    </tr>\n",
       "  </tbody>\n",
       "</table>\n",
       "<p>270000 rows × 45 columns</p>\n",
       "</div>"
      ],
      "text/plain": [
       "        member_id  loan_amnt  funded_amnt  funded_amnt_inv       term  \\\n",
       "0        58189336      14350        14350      14350.00000  36 months   \n",
       "1        70011223       4800         4800       4800.00000  36 months   \n",
       "2        70255675      10000        10000      10000.00000  36 months   \n",
       "3         1893936      15000        15000      15000.00000  36 months   \n",
       "4         7652106      16000        16000      16000.00000  36 months   \n",
       "...           ...        ...          ...              ...        ...   \n",
       "269995   35623179       4200         4200       4200.00000  36 months   \n",
       "269996   10326761      20000        20000      20000.00000  36 months   \n",
       "269997     656855      12000        12000      11127.82258  36 months   \n",
       "269998   14679847      22000        22000      22000.00000  36 months   \n",
       "269999   66255702      15625        15625      15625.00000  60 months   \n",
       "\n",
       "       batch_enrolled  int_rate grade sub_grade  \\\n",
       "0                 NaN     19.19     E        E3   \n",
       "1          BAT1586599     10.99     B        B4   \n",
       "2          BAT1586599      7.26     A        A4   \n",
       "3          BAT4808022     19.72     D        D5   \n",
       "4          BAT2833642     10.64     B        B2   \n",
       "...               ...       ...   ...       ...   \n",
       "269995            NaN     13.98     C        C3   \n",
       "269996     BAT2575549     13.67     B        B5   \n",
       "269997            NaN      7.88     A        A5   \n",
       "269998            NaN     12.49     B        B4   \n",
       "269999     BAT2252229     25.78     F        F5   \n",
       "\n",
       "                                 emp_title  ... collections_12_mths_ex_med  \\\n",
       "0                                    clerk  ...                        0.0   \n",
       "1               Human Resources Specialist  ...                        0.0   \n",
       "2                                   Driver  ...                        0.0   \n",
       "3        Us office of Personnel Management  ...                        0.0   \n",
       "4              LAUSD-HOLLYWOOD HIGH SCHOOL  ...                        0.0   \n",
       "...                                    ...  ...                        ...   \n",
       "269995             Medical Advocate Driver  ...                        0.0   \n",
       "269996         Senior System Administrator  ...                        0.0   \n",
       "269997  Applied Information Sciences  Inc.  ...                        0.0   \n",
       "269998                   AMI Administrator  ...                        0.0   \n",
       "269999                           21 dealer  ...                        0.0   \n",
       "\n",
       "       mths_since_last_major_derog  application_type  \\\n",
       "0                             74.0        INDIVIDUAL   \n",
       "1                              NaN        INDIVIDUAL   \n",
       "2                              NaN        INDIVIDUAL   \n",
       "3                              NaN        INDIVIDUAL   \n",
       "4                              NaN        INDIVIDUAL   \n",
       "...                            ...               ...   \n",
       "269995                         NaN        INDIVIDUAL   \n",
       "269996                         NaN        INDIVIDUAL   \n",
       "269997                         NaN        INDIVIDUAL   \n",
       "269998                         NaN        INDIVIDUAL   \n",
       "269999                         NaN        INDIVIDUAL   \n",
       "\n",
       "       verification_status_joint last_week_pay acc_now_delinq tot_coll_amt  \\\n",
       "0                            NaN     26th week            0.0          0.0   \n",
       "1                            NaN      9th week            0.0          0.0   \n",
       "2                            NaN      9th week            0.0         65.0   \n",
       "3                            NaN    135th week            0.0          0.0   \n",
       "4                            NaN     96th week            0.0          0.0   \n",
       "...                          ...           ...            ...          ...   \n",
       "269995                       NaN     61th week            0.0          0.0   \n",
       "269996                       NaN     69th week            0.0          0.0   \n",
       "269997                       NaN    113th week            0.0          NaN   \n",
       "269998                       NaN     96th week            0.0          0.0   \n",
       "269999                       NaN     13th week            0.0          0.0   \n",
       "\n",
       "       tot_cur_bal total_rev_hi_lim loan_status  \n",
       "0          28699.0          30800.0           0  \n",
       "1           9974.0          32900.0           0  \n",
       "2          38295.0          34900.0           0  \n",
       "3          55564.0          24700.0           0  \n",
       "4          47159.0          47033.0           0  \n",
       "...            ...              ...         ...  \n",
       "269995     80784.0           7200.0           0  \n",
       "269996     26082.0          59200.0           0  \n",
       "269997         NaN              NaN           1  \n",
       "269998    130449.0          34500.0           0  \n",
       "269999    267292.0          49800.0           0  \n",
       "\n",
       "[270000 rows x 45 columns]"
      ]
     },
     "execution_count": 4,
     "metadata": {},
     "output_type": "execute_result"
    }
   ],
   "source": [
    "# var and stdv :\n",
    "\n",
    "df = pd.read_csv(\"C:\\\\Users\\\\vamsi\\\\Downloads\\\\train_data_1.csv\")\n",
    "df"
   ]
  },
  {
   "cell_type": "code",
   "execution_count": 5,
   "id": "9a921e22",
   "metadata": {},
   "outputs": [
    {
     "data": {
      "text/html": [
       "<div>\n",
       "<style scoped>\n",
       "    .dataframe tbody tr th:only-of-type {\n",
       "        vertical-align: middle;\n",
       "    }\n",
       "\n",
       "    .dataframe tbody tr th {\n",
       "        vertical-align: top;\n",
       "    }\n",
       "\n",
       "    .dataframe thead th {\n",
       "        text-align: right;\n",
       "    }\n",
       "</style>\n",
       "<table border=\"1\" class=\"dataframe\">\n",
       "  <thead>\n",
       "    <tr style=\"text-align: right;\">\n",
       "      <th></th>\n",
       "      <th>member_id</th>\n",
       "      <th>loan_amnt</th>\n",
       "      <th>funded_amnt</th>\n",
       "      <th>funded_amnt_inv</th>\n",
       "      <th>int_rate</th>\n",
       "      <th>annual_inc</th>\n",
       "      <th>dti</th>\n",
       "      <th>delinq_2yrs</th>\n",
       "      <th>inq_last_6mths</th>\n",
       "      <th>mths_since_last_delinq</th>\n",
       "      <th>...</th>\n",
       "      <th>total_rec_late_fee</th>\n",
       "      <th>recoveries</th>\n",
       "      <th>collection_recovery_fee</th>\n",
       "      <th>collections_12_mths_ex_med</th>\n",
       "      <th>mths_since_last_major_derog</th>\n",
       "      <th>acc_now_delinq</th>\n",
       "      <th>tot_coll_amt</th>\n",
       "      <th>tot_cur_bal</th>\n",
       "      <th>total_rev_hi_lim</th>\n",
       "      <th>loan_status</th>\n",
       "    </tr>\n",
       "  </thead>\n",
       "  <tbody>\n",
       "    <tr>\n",
       "      <th>count</th>\n",
       "      <td>2.700000e+05</td>\n",
       "      <td>270000.000000</td>\n",
       "      <td>270000.000000</td>\n",
       "      <td>270000.000000</td>\n",
       "      <td>270000.000000</td>\n",
       "      <td>2.699980e+05</td>\n",
       "      <td>270000.000000</td>\n",
       "      <td>269994.000000</td>\n",
       "      <td>269994.000000</td>\n",
       "      <td>131498.000000</td>\n",
       "      <td>...</td>\n",
       "      <td>270000.000000</td>\n",
       "      <td>270000.000000</td>\n",
       "      <td>270000.000000</td>\n",
       "      <td>269958.000000</td>\n",
       "      <td>67505.000000</td>\n",
       "      <td>269994.000000</td>\n",
       "      <td>248617.000000</td>\n",
       "      <td>2.486170e+05</td>\n",
       "      <td>2.486170e+05</td>\n",
       "      <td>270000.000000</td>\n",
       "    </tr>\n",
       "    <tr>\n",
       "      <th>mean</th>\n",
       "      <td>3.500089e+07</td>\n",
       "      <td>14749.904167</td>\n",
       "      <td>14736.266296</td>\n",
       "      <td>14696.206530</td>\n",
       "      <td>13.243335</td>\n",
       "      <td>7.506215e+04</td>\n",
       "      <td>18.128041</td>\n",
       "      <td>0.315822</td>\n",
       "      <td>0.694182</td>\n",
       "      <td>34.003749</td>\n",
       "      <td>...</td>\n",
       "      <td>0.402963</td>\n",
       "      <td>45.419585</td>\n",
       "      <td>4.805591</td>\n",
       "      <td>0.014261</td>\n",
       "      <td>44.058633</td>\n",
       "      <td>0.004930</td>\n",
       "      <td>213.969358</td>\n",
       "      <td>1.395263e+05</td>\n",
       "      <td>3.207576e+04</td>\n",
       "      <td>0.236378</td>\n",
       "    </tr>\n",
       "    <tr>\n",
       "      <th>std</th>\n",
       "      <td>2.413323e+07</td>\n",
       "      <td>8427.573821</td>\n",
       "      <td>8421.906894</td>\n",
       "      <td>8434.618225</td>\n",
       "      <td>4.379194</td>\n",
       "      <td>6.485241e+04</td>\n",
       "      <td>8.307225</td>\n",
       "      <td>0.868445</td>\n",
       "      <td>0.994583</td>\n",
       "      <td>21.851861</td>\n",
       "      <td>...</td>\n",
       "      <td>4.220959</td>\n",
       "      <td>397.525840</td>\n",
       "      <td>60.381161</td>\n",
       "      <td>0.133470</td>\n",
       "      <td>22.172078</td>\n",
       "      <td>0.076895</td>\n",
       "      <td>2029.834018</td>\n",
       "      <td>1.531235e+05</td>\n",
       "      <td>3.762495e+04</td>\n",
       "      <td>0.424858</td>\n",
       "    </tr>\n",
       "    <tr>\n",
       "      <th>min</th>\n",
       "      <td>7.047300e+04</td>\n",
       "      <td>500.000000</td>\n",
       "      <td>500.000000</td>\n",
       "      <td>0.000000</td>\n",
       "      <td>5.320000</td>\n",
       "      <td>1.896000e+03</td>\n",
       "      <td>0.000000</td>\n",
       "      <td>0.000000</td>\n",
       "      <td>0.000000</td>\n",
       "      <td>0.000000</td>\n",
       "      <td>...</td>\n",
       "      <td>0.000000</td>\n",
       "      <td>0.000000</td>\n",
       "      <td>0.000000</td>\n",
       "      <td>0.000000</td>\n",
       "      <td>0.000000</td>\n",
       "      <td>0.000000</td>\n",
       "      <td>0.000000</td>\n",
       "      <td>0.000000e+00</td>\n",
       "      <td>0.000000e+00</td>\n",
       "      <td>0.000000</td>\n",
       "    </tr>\n",
       "    <tr>\n",
       "      <th>25%</th>\n",
       "      <td>1.085953e+07</td>\n",
       "      <td>8000.000000</td>\n",
       "      <td>8000.000000</td>\n",
       "      <td>8000.000000</td>\n",
       "      <td>9.990000</td>\n",
       "      <td>4.500000e+04</td>\n",
       "      <td>11.910000</td>\n",
       "      <td>0.000000</td>\n",
       "      <td>0.000000</td>\n",
       "      <td>15.000000</td>\n",
       "      <td>...</td>\n",
       "      <td>0.000000</td>\n",
       "      <td>0.000000</td>\n",
       "      <td>0.000000</td>\n",
       "      <td>0.000000</td>\n",
       "      <td>27.000000</td>\n",
       "      <td>0.000000</td>\n",
       "      <td>0.000000</td>\n",
       "      <td>2.981800e+04</td>\n",
       "      <td>1.400000e+04</td>\n",
       "      <td>0.000000</td>\n",
       "    </tr>\n",
       "    <tr>\n",
       "      <th>50%</th>\n",
       "      <td>3.709728e+07</td>\n",
       "      <td>13000.000000</td>\n",
       "      <td>13000.000000</td>\n",
       "      <td>13000.000000</td>\n",
       "      <td>12.990000</td>\n",
       "      <td>6.485750e+04</td>\n",
       "      <td>17.630000</td>\n",
       "      <td>0.000000</td>\n",
       "      <td>0.000000</td>\n",
       "      <td>31.000000</td>\n",
       "      <td>...</td>\n",
       "      <td>0.000000</td>\n",
       "      <td>0.000000</td>\n",
       "      <td>0.000000</td>\n",
       "      <td>0.000000</td>\n",
       "      <td>44.000000</td>\n",
       "      <td>0.000000</td>\n",
       "      <td>0.000000</td>\n",
       "      <td>8.033500e+04</td>\n",
       "      <td>2.380000e+04</td>\n",
       "      <td>0.000000</td>\n",
       "    </tr>\n",
       "    <tr>\n",
       "      <th>75%</th>\n",
       "      <td>5.851962e+07</td>\n",
       "      <td>20000.000000</td>\n",
       "      <td>20000.000000</td>\n",
       "      <td>20000.000000</td>\n",
       "      <td>16.200000</td>\n",
       "      <td>9.000000e+04</td>\n",
       "      <td>23.940000</td>\n",
       "      <td>0.000000</td>\n",
       "      <td>1.000000</td>\n",
       "      <td>50.000000</td>\n",
       "      <td>...</td>\n",
       "      <td>0.000000</td>\n",
       "      <td>0.000000</td>\n",
       "      <td>0.000000</td>\n",
       "      <td>0.000000</td>\n",
       "      <td>61.000000</td>\n",
       "      <td>0.000000</td>\n",
       "      <td>0.000000</td>\n",
       "      <td>2.085710e+05</td>\n",
       "      <td>3.990000e+04</td>\n",
       "      <td>0.000000</td>\n",
       "    </tr>\n",
       "    <tr>\n",
       "      <th>max</th>\n",
       "      <td>7.354484e+07</td>\n",
       "      <td>35000.000000</td>\n",
       "      <td>35000.000000</td>\n",
       "      <td>35000.000000</td>\n",
       "      <td>28.990000</td>\n",
       "      <td>9.500000e+06</td>\n",
       "      <td>137.400000</td>\n",
       "      <td>30.000000</td>\n",
       "      <td>28.000000</td>\n",
       "      <td>176.000000</td>\n",
       "      <td>...</td>\n",
       "      <td>358.680000</td>\n",
       "      <td>29623.350000</td>\n",
       "      <td>7002.190000</td>\n",
       "      <td>16.000000</td>\n",
       "      <td>176.000000</td>\n",
       "      <td>5.000000</td>\n",
       "      <td>496651.000000</td>\n",
       "      <td>3.840795e+06</td>\n",
       "      <td>9.999999e+06</td>\n",
       "      <td>1.000000</td>\n",
       "    </tr>\n",
       "  </tbody>\n",
       "</table>\n",
       "<p>8 rows × 27 columns</p>\n",
       "</div>"
      ],
      "text/plain": [
       "          member_id      loan_amnt    funded_amnt  funded_amnt_inv  \\\n",
       "count  2.700000e+05  270000.000000  270000.000000    270000.000000   \n",
       "mean   3.500089e+07   14749.904167   14736.266296     14696.206530   \n",
       "std    2.413323e+07    8427.573821    8421.906894      8434.618225   \n",
       "min    7.047300e+04     500.000000     500.000000         0.000000   \n",
       "25%    1.085953e+07    8000.000000    8000.000000      8000.000000   \n",
       "50%    3.709728e+07   13000.000000   13000.000000     13000.000000   \n",
       "75%    5.851962e+07   20000.000000   20000.000000     20000.000000   \n",
       "max    7.354484e+07   35000.000000   35000.000000     35000.000000   \n",
       "\n",
       "            int_rate    annual_inc            dti    delinq_2yrs  \\\n",
       "count  270000.000000  2.699980e+05  270000.000000  269994.000000   \n",
       "mean       13.243335  7.506215e+04      18.128041       0.315822   \n",
       "std         4.379194  6.485241e+04       8.307225       0.868445   \n",
       "min         5.320000  1.896000e+03       0.000000       0.000000   \n",
       "25%         9.990000  4.500000e+04      11.910000       0.000000   \n",
       "50%        12.990000  6.485750e+04      17.630000       0.000000   \n",
       "75%        16.200000  9.000000e+04      23.940000       0.000000   \n",
       "max        28.990000  9.500000e+06     137.400000      30.000000   \n",
       "\n",
       "       inq_last_6mths  mths_since_last_delinq  ...  total_rec_late_fee  \\\n",
       "count   269994.000000           131498.000000  ...       270000.000000   \n",
       "mean         0.694182               34.003749  ...            0.402963   \n",
       "std          0.994583               21.851861  ...            4.220959   \n",
       "min          0.000000                0.000000  ...            0.000000   \n",
       "25%          0.000000               15.000000  ...            0.000000   \n",
       "50%          0.000000               31.000000  ...            0.000000   \n",
       "75%          1.000000               50.000000  ...            0.000000   \n",
       "max         28.000000              176.000000  ...          358.680000   \n",
       "\n",
       "          recoveries  collection_recovery_fee  collections_12_mths_ex_med  \\\n",
       "count  270000.000000            270000.000000               269958.000000   \n",
       "mean       45.419585                 4.805591                    0.014261   \n",
       "std       397.525840                60.381161                    0.133470   \n",
       "min         0.000000                 0.000000                    0.000000   \n",
       "25%         0.000000                 0.000000                    0.000000   \n",
       "50%         0.000000                 0.000000                    0.000000   \n",
       "75%         0.000000                 0.000000                    0.000000   \n",
       "max     29623.350000              7002.190000                   16.000000   \n",
       "\n",
       "       mths_since_last_major_derog  acc_now_delinq   tot_coll_amt  \\\n",
       "count                 67505.000000   269994.000000  248617.000000   \n",
       "mean                     44.058633        0.004930     213.969358   \n",
       "std                      22.172078        0.076895    2029.834018   \n",
       "min                       0.000000        0.000000       0.000000   \n",
       "25%                      27.000000        0.000000       0.000000   \n",
       "50%                      44.000000        0.000000       0.000000   \n",
       "75%                      61.000000        0.000000       0.000000   \n",
       "max                     176.000000        5.000000  496651.000000   \n",
       "\n",
       "        tot_cur_bal  total_rev_hi_lim    loan_status  \n",
       "count  2.486170e+05      2.486170e+05  270000.000000  \n",
       "mean   1.395263e+05      3.207576e+04       0.236378  \n",
       "std    1.531235e+05      3.762495e+04       0.424858  \n",
       "min    0.000000e+00      0.000000e+00       0.000000  \n",
       "25%    2.981800e+04      1.400000e+04       0.000000  \n",
       "50%    8.033500e+04      2.380000e+04       0.000000  \n",
       "75%    2.085710e+05      3.990000e+04       0.000000  \n",
       "max    3.840795e+06      9.999999e+06       1.000000  \n",
       "\n",
       "[8 rows x 27 columns]"
      ]
     },
     "execution_count": 5,
     "metadata": {},
     "output_type": "execute_result"
    }
   ],
   "source": [
    "df.describe()"
   ]
  },
  {
   "cell_type": "code",
   "execution_count": 8,
   "id": "db35285c",
   "metadata": {},
   "outputs": [
    {
     "name": "stderr",
     "output_type": "stream",
     "text": [
      "C:\\Users\\vamsi\\AppData\\Local\\Temp/ipykernel_22392/3300690978.py:3: FutureWarning: Dropping of nuisance columns in DataFrame reductions (with 'numeric_only=None') is deprecated; in a future version this will raise TypeError.  Select only valid columns before calling the reduction.\n",
      "  df.var()\n"
     ]
    },
    {
     "data": {
      "text/plain": [
       "member_id                      5.824127e+14\n",
       "loan_amnt                      7.102400e+07\n",
       "funded_amnt                    7.092852e+07\n",
       "funded_amnt_inv                7.114278e+07\n",
       "int_rate                       1.917734e+01\n",
       "annual_inc                     4.205835e+09\n",
       "dti                            6.900998e+01\n",
       "delinq_2yrs                    7.541969e-01\n",
       "inq_last_6mths                 9.891957e-01\n",
       "mths_since_last_delinq         4.775038e+02\n",
       "mths_since_last_record         7.946233e+02\n",
       "open_acc                       2.833981e+01\n",
       "pub_rec                        3.238424e-01\n",
       "revol_bal                      4.824580e+08\n",
       "revol_util                     5.704163e+02\n",
       "total_acc                      1.404501e+02\n",
       "total_rec_int                  4.379309e+06\n",
       "total_rec_late_fee             1.781649e+01\n",
       "recoveries                     1.580268e+05\n",
       "collection_recovery_fee        3.645885e+03\n",
       "collections_12_mths_ex_med     1.781429e-02\n",
       "mths_since_last_major_derog    4.916011e+02\n",
       "acc_now_delinq                 5.912889e-03\n",
       "tot_coll_amt                   4.120226e+06\n",
       "tot_cur_bal                    2.344680e+10\n",
       "total_rev_hi_lim               1.415637e+09\n",
       "loan_status                    1.805040e-01\n",
       "dtype: float64"
      ]
     },
     "execution_count": 8,
     "metadata": {},
     "output_type": "execute_result"
    }
   ],
   "source": [
    "# var :\n",
    "\n",
    "df.var()"
   ]
  },
  {
   "cell_type": "code",
   "execution_count": 6,
   "id": "4fd52ce6",
   "metadata": {},
   "outputs": [
    {
     "name": "stdout",
     "output_type": "stream",
     "text": [
      "<class 'pandas.core.frame.DataFrame'>\n",
      "RangeIndex: 270000 entries, 0 to 269999\n",
      "Data columns (total 45 columns):\n",
      " #   Column                       Non-Null Count   Dtype  \n",
      "---  ------                       --------------   -----  \n",
      " 0   member_id                    270000 non-null  int64  \n",
      " 1   loan_amnt                    270000 non-null  int64  \n",
      " 2   funded_amnt                  270000 non-null  int64  \n",
      " 3   funded_amnt_inv              270000 non-null  float64\n",
      " 4   term                         270000 non-null  object \n",
      " 5   batch_enrolled               173125 non-null  object \n",
      " 6   int_rate                     270000 non-null  float64\n",
      " 7   grade                        270000 non-null  object \n",
      " 8   sub_grade                    270000 non-null  object \n",
      " 9   emp_title                    254375 non-null  object \n",
      " 10  emp_length                   256370 non-null  object \n",
      " 11  home_ownership               270000 non-null  object \n",
      " 12  annual_inc                   269998 non-null  float64\n",
      " 13  verification_status          270000 non-null  object \n",
      " 14  pymnt_plan                   270000 non-null  object \n",
      " 15  desc                         38379 non-null   object \n",
      " 16  purpose                      270000 non-null  object \n",
      " 17  title                        269957 non-null  object \n",
      " 18  zip_code                     270000 non-null  object \n",
      " 19  addr_state                   270000 non-null  object \n",
      " 20  dti                          270000 non-null  float64\n",
      " 21  delinq_2yrs                  269994 non-null  float64\n",
      " 22  inq_last_6mths               269994 non-null  float64\n",
      " 23  mths_since_last_delinq       131498 non-null  float64\n",
      " 24  mths_since_last_record       41289 non-null   float64\n",
      " 25  open_acc                     269994 non-null  float64\n",
      " 26  pub_rec                      269994 non-null  float64\n",
      " 27  revol_bal                    270000 non-null  int64  \n",
      " 28  revol_util                   269852 non-null  float64\n",
      " 29  total_acc                    269994 non-null  float64\n",
      " 30  initial_list_status          270000 non-null  object \n",
      " 31  total_rec_int                270000 non-null  float64\n",
      " 32  total_rec_late_fee           270000 non-null  float64\n",
      " 33  recoveries                   270000 non-null  float64\n",
      " 34  collection_recovery_fee      270000 non-null  float64\n",
      " 35  collections_12_mths_ex_med   269958 non-null  float64\n",
      " 36  mths_since_last_major_derog  67505 non-null   float64\n",
      " 37  application_type             270000 non-null  object \n",
      " 38  verification_status_joint    141 non-null     object \n",
      " 39  last_week_pay                270000 non-null  object \n",
      " 40  acc_now_delinq               269994 non-null  float64\n",
      " 41  tot_coll_amt                 248617 non-null  float64\n",
      " 42  tot_cur_bal                  248617 non-null  float64\n",
      " 43  total_rev_hi_lim             248617 non-null  float64\n",
      " 44  loan_status                  270000 non-null  int64  \n",
      "dtypes: float64(22), int64(5), object(18)\n",
      "memory usage: 92.7+ MB\n"
     ]
    }
   ],
   "source": [
    "df.info()"
   ]
  },
  {
   "cell_type": "code",
   "execution_count": 13,
   "id": "b32cd7d5",
   "metadata": {},
   "outputs": [
    {
     "ename": "NameError",
     "evalue": "name 'tot_cur_bal' is not defined",
     "output_type": "error",
     "traceback": [
      "\u001b[1;31m---------------------------------------------------------------------------\u001b[0m",
      "\u001b[1;31mNameError\u001b[0m                                 Traceback (most recent call last)",
      "\u001b[1;32m~\\AppData\\Local\\Temp/ipykernel_22392/2770212493.py\u001b[0m in \u001b[0;36m<module>\u001b[1;34m\u001b[0m\n\u001b[1;32m----> 1\u001b[1;33m \u001b[0mdf\u001b[0m\u001b[1;33m.\u001b[0m\u001b[0mskew\u001b[0m\u001b[1;33m(\u001b[0m\u001b[0mtot_cur_bal\u001b[0m \u001b[1;33m)\u001b[0m\u001b[1;33m\u001b[0m\u001b[1;33m\u001b[0m\u001b[0m\n\u001b[0m",
      "\u001b[1;31mNameError\u001b[0m: name 'tot_cur_bal' is not defined"
     ]
    }
   ],
   "source": [
    "df.skew( )"
   ]
  },
  {
   "cell_type": "code",
   "execution_count": 10,
   "id": "f68137a3",
   "metadata": {},
   "outputs": [
    {
     "name": "stderr",
     "output_type": "stream",
     "text": [
      "C:\\Users\\vamsi\\AppData\\Local\\Temp/ipykernel_22392/615572439.py:1: FutureWarning: Dropping of nuisance columns in DataFrame reductions (with 'numeric_only=None') is deprecated; in a future version this will raise TypeError.  Select only valid columns before calling the reduction.\n",
      "  df.kurtosis()\n"
     ]
    },
    {
     "data": {
      "text/plain": [
       "member_id                         -1.468914\n",
       "loan_amnt                         -0.259767\n",
       "funded_amnt                       -0.254349\n",
       "funded_amnt_inv                   -0.254581\n",
       "int_rate                          -0.151731\n",
       "annual_inc                      5105.649233\n",
       "dti                               -0.224051\n",
       "delinq_2yrs                       55.477688\n",
       "inq_last_6mths                     8.966567\n",
       "mths_since_last_delinq            -0.778622\n",
       "mths_since_last_record            -0.591078\n",
       "open_acc                           3.128162\n",
       "pub_rec                          306.582582\n",
       "revol_bal                        868.295938\n",
       "revol_util                         4.860857\n",
       "total_acc                          1.315415\n",
       "total_rec_int                     11.877372\n",
       "total_rec_late_fee               622.052145\n",
       "recoveries                       459.405876\n",
       "collection_recovery_fee         1622.315039\n",
       "collections_12_mths_ex_med       929.141025\n",
       "mths_since_last_major_derog       -0.046975\n",
       "acc_now_delinq                   541.907272\n",
       "tot_coll_amt                   15529.130461\n",
       "tot_cur_bal                       16.460053\n",
       "total_rev_hi_lim               19863.746194\n",
       "loan_status                       -0.459922\n",
       "dtype: float64"
      ]
     },
     "execution_count": 10,
     "metadata": {},
     "output_type": "execute_result"
    }
   ],
   "source": [
    "df.kurtosis()"
   ]
  },
  {
   "cell_type": "code",
   "execution_count": 23,
   "id": "836120c9",
   "metadata": {},
   "outputs": [
    {
     "data": {
      "text/plain": [
       "0    14350\n",
       "1     4800\n",
       "2    10000\n",
       "3    15000\n",
       "4    16000\n",
       "Name: loan_amnt, dtype: int64"
      ]
     },
     "execution_count": 23,
     "metadata": {},
     "output_type": "execute_result"
    }
   ],
   "source": [
    "df['loan_amnt'].head()\n",
    "\n",
    "\"\"\"\n",
    "71023737.46 =\tvar\n",
    "8427.558215 =\tstd\n",
    "0.679418705 =\tskew\n",
    "-0.259767409 =\tkurtosis\n",
    "\n",
    "\"\"\"\n",
    "\n"
   ]
  },
  {
   "cell_type": "code",
   "execution_count": 24,
   "id": "7a658cb2",
   "metadata": {},
   "outputs": [
    {
     "data": {
      "text/plain": [
       "8427.573821243932"
      ]
     },
     "execution_count": 24,
     "metadata": {},
     "output_type": "execute_result"
    }
   ],
   "source": [
    "#std: \n",
    "df['loan_amnt'].std()"
   ]
  },
  {
   "cell_type": "code",
   "execution_count": 25,
   "id": "cab60b77",
   "metadata": {},
   "outputs": [
    {
     "data": {
      "text/plain": [
       "71024000.51251605"
      ]
     },
     "execution_count": 25,
     "metadata": {},
     "output_type": "execute_result"
    }
   ],
   "source": [
    "#var:\n",
    "\n",
    "df['loan_amnt'].var()"
   ]
  },
  {
   "cell_type": "code",
   "execution_count": 26,
   "id": "60865cdd",
   "metadata": {},
   "outputs": [
    {
     "data": {
      "text/plain": [
       "0.6794224797784283"
      ]
     },
     "execution_count": 26,
     "metadata": {},
     "output_type": "execute_result"
    }
   ],
   "source": [
    "# skewness:\n",
    "\n",
    "\n",
    "\n",
    "df['loan_amnt'].skew()"
   ]
  },
  {
   "cell_type": "code",
   "execution_count": 33,
   "id": "2786530e",
   "metadata": {},
   "outputs": [
    {
     "data": {
      "text/plain": [
       "-0.25976740914469376"
      ]
     },
     "execution_count": 33,
     "metadata": {},
     "output_type": "execute_result"
    }
   ],
   "source": [
    "# Kurtosis :\n",
    "\n",
    "df['loan_amnt'].kurtosis()\n"
   ]
  },
  {
   "cell_type": "code",
   "execution_count": 40,
   "id": "c1631db8",
   "metadata": {},
   "outputs": [
    {
     "data": {
      "text/plain": [
       "array([[<AxesSubplot:title={'center':'loan_amnt'}>]], dtype=object)"
      ]
     },
     "execution_count": 40,
     "metadata": {},
     "output_type": "execute_result"
    },
    {
     "data": {
      "image/png": "[encoded data removed]",
      "text/plain": [
       "<Figure size 432x288 with 1 Axes>"
      ]
     },
     "metadata": {
      "needs_background": "light"
     },
     "output_type": "display_data"
    }
   ],
   "source": [
    "df.hist('loan_amnt')"
   ]
  },
  {
   "cell_type": "code",
   "execution_count": 43,
   "id": "f4048491",
   "metadata": {},
   "outputs": [],
   "source": [
    "from scipy.stats import skew"
   ]
  },
  {
   "cell_type": "code",
   "execution_count": 45,
   "id": "bd85cf41",
   "metadata": {},
   "outputs": [
    {
     "name": "stdout",
     "output_type": "stream",
     "text": [
      "member_id\n",
      "0.017744937502377007\n"
     ]
    },
    {
     "name": "stderr",
     "output_type": "stream",
     "text": [
      "C:\\Users\\vamsi\\anaconda3\\lib\\site-packages\\seaborn\\distributions.py:2619: FutureWarning: `distplot` is a deprecated function and will be removed in a future version. Please adapt your code to use either `displot` (a figure-level function with similar flexibility) or `histplot` (an axes-level function for histograms).\n",
      "  warnings.warn(msg, FutureWarning)\n"
     ]
    },
    {
     "data": {
      "image/png": "[encoded data removed]",
      "text/plain": [
       "<Figure size 432x288 with 1 Axes>"
      ]
     },
     "metadata": {
      "needs_background": "light"
     },
     "output_type": "display_data"
    },
    {
     "name": "stdout",
     "output_type": "stream",
     "text": [
      "loan_amnt\n",
      "0.6794187052032712\n"
     ]
    },
    {
     "name": "stderr",
     "output_type": "stream",
     "text": [
      "C:\\Users\\vamsi\\anaconda3\\lib\\site-packages\\seaborn\\distributions.py:2619: FutureWarning: `distplot` is a deprecated function and will be removed in a future version. Please adapt your code to use either `displot` (a figure-level function with similar flexibility) or `histplot` (an axes-level function for histograms).\n",
      "  warnings.warn(msg, FutureWarning)\n"
     ]
    },
    {
     "data": {
      "image/png": "[encoded data removed]",
      "text/plain": [
       "<Figure size 432x288 with 1 Axes>"
      ]
     },
     "metadata": {
      "needs_background": "light"
     },
     "output_type": "display_data"
    },
    {
     "name": "stdout",
     "output_type": "stream",
     "text": [
      "funded_amnt\n",
      "0.6815783891559402\n"
     ]
    },
    {
     "name": "stderr",
     "output_type": "stream",
     "text": [
      "C:\\Users\\vamsi\\anaconda3\\lib\\site-packages\\seaborn\\distributions.py:2619: FutureWarning: `distplot` is a deprecated function and will be removed in a future version. Please adapt your code to use either `displot` (a figure-level function with similar flexibility) or `histplot` (an axes-level function for histograms).\n",
      "  warnings.warn(msg, FutureWarning)\n"
     ]
    },
    {
     "data": {
      "image/png": "[encoded data removed]",
      "text/plain": [
       "<Figure size 432x288 with 1 Axes>"
      ]
     },
     "metadata": {
      "needs_background": "light"
     },
     "output_type": "display_data"
    },
    {
     "name": "stdout",
     "output_type": "stream",
     "text": [
      "funded_amnt_inv\n",
      "0.6786692290675328\n"
     ]
    },
    {
     "name": "stderr",
     "output_type": "stream",
     "text": [
      "C:\\Users\\vamsi\\anaconda3\\lib\\site-packages\\seaborn\\distributions.py:2619: FutureWarning: `distplot` is a deprecated function and will be removed in a future version. Please adapt your code to use either `displot` (a figure-level function with similar flexibility) or `histplot` (an axes-level function for histograms).\n",
      "  warnings.warn(msg, FutureWarning)\n"
     ]
    },
    {
     "data": {
      "image/png": "[encoded data removed]",
      "text/plain": [
       "<Figure size 432x288 with 1 Axes>"
      ]
     },
     "metadata": {
      "needs_background": "light"
     },
     "output_type": "display_data"
    },
    {
     "name": "stdout",
     "output_type": "stream",
     "text": [
      "term\n"
     ]
    },
    {
     "ename": "TypeError",
     "evalue": "unsupported operand type(s) for /: 'str' and 'int'",
     "output_type": "error",
     "traceback": [
      "\u001b[1;31m---------------------------------------------------------------------------\u001b[0m",
      "\u001b[1;31mTypeError\u001b[0m                                 Traceback (most recent call last)",
      "\u001b[1;32m~\\AppData\\Local\\Temp/ipykernel_22392/1901146819.py\u001b[0m in \u001b[0;36m<module>\u001b[1;34m\u001b[0m\n\u001b[0;32m      1\u001b[0m \u001b[1;32mfor\u001b[0m \u001b[0mcol\u001b[0m \u001b[1;32min\u001b[0m \u001b[0mdf\u001b[0m\u001b[1;33m:\u001b[0m\u001b[1;33m\u001b[0m\u001b[1;33m\u001b[0m\u001b[0m\n\u001b[0;32m      2\u001b[0m     \u001b[0mprint\u001b[0m\u001b[1;33m(\u001b[0m\u001b[0mcol\u001b[0m\u001b[1;33m)\u001b[0m\u001b[1;33m\u001b[0m\u001b[1;33m\u001b[0m\u001b[0m\n\u001b[1;32m----> 3\u001b[1;33m     \u001b[0mprint\u001b[0m\u001b[1;33m(\u001b[0m\u001b[0mskew\u001b[0m\u001b[1;33m(\u001b[0m\u001b[0mdf\u001b[0m\u001b[1;33m[\u001b[0m\u001b[0mcol\u001b[0m\u001b[1;33m]\u001b[0m\u001b[1;33m)\u001b[0m\u001b[1;33m)\u001b[0m\u001b[1;33m\u001b[0m\u001b[1;33m\u001b[0m\u001b[0m\n\u001b[0m\u001b[0;32m      4\u001b[0m \u001b[1;33m\u001b[0m\u001b[0m\n\u001b[0;32m      5\u001b[0m \u001b[1;33m\u001b[0m\u001b[0m\n",
      "\u001b[1;32m~\\anaconda3\\lib\\site-packages\\scipy\\stats\\stats.py\u001b[0m in \u001b[0;36mskew\u001b[1;34m(a, axis, bias, nan_policy)\u001b[0m\n\u001b[0;32m   1105\u001b[0m         \u001b[1;32mreturn\u001b[0m \u001b[0mmstats_basic\u001b[0m\u001b[1;33m.\u001b[0m\u001b[0mskew\u001b[0m\u001b[1;33m(\u001b[0m\u001b[0ma\u001b[0m\u001b[1;33m,\u001b[0m \u001b[0maxis\u001b[0m\u001b[1;33m,\u001b[0m \u001b[0mbias\u001b[0m\u001b[1;33m)\u001b[0m\u001b[1;33m\u001b[0m\u001b[1;33m\u001b[0m\u001b[0m\n\u001b[0;32m   1106\u001b[0m \u001b[1;33m\u001b[0m\u001b[0m\n\u001b[1;32m-> 1107\u001b[1;33m     \u001b[0mmean\u001b[0m \u001b[1;33m=\u001b[0m \u001b[0ma\u001b[0m\u001b[1;33m.\u001b[0m\u001b[0mmean\u001b[0m\u001b[1;33m(\u001b[0m\u001b[0maxis\u001b[0m\u001b[1;33m,\u001b[0m \u001b[0mkeepdims\u001b[0m\u001b[1;33m=\u001b[0m\u001b[1;32mTrue\u001b[0m\u001b[1;33m)\u001b[0m\u001b[1;33m\u001b[0m\u001b[1;33m\u001b[0m\u001b[0m\n\u001b[0m\u001b[0;32m   1108\u001b[0m     \u001b[0mm2\u001b[0m \u001b[1;33m=\u001b[0m \u001b[0m_moment\u001b[0m\u001b[1;33m(\u001b[0m\u001b[0ma\u001b[0m\u001b[1;33m,\u001b[0m \u001b[1;36m2\u001b[0m\u001b[1;33m,\u001b[0m \u001b[0maxis\u001b[0m\u001b[1;33m,\u001b[0m \u001b[0mmean\u001b[0m\u001b[1;33m=\u001b[0m\u001b[0mmean\u001b[0m\u001b[1;33m)\u001b[0m\u001b[1;33m\u001b[0m\u001b[1;33m\u001b[0m\u001b[0m\n\u001b[0;32m   1109\u001b[0m     \u001b[0mm3\u001b[0m \u001b[1;33m=\u001b[0m \u001b[0m_moment\u001b[0m\u001b[1;33m(\u001b[0m\u001b[0ma\u001b[0m\u001b[1;33m,\u001b[0m \u001b[1;36m3\u001b[0m\u001b[1;33m,\u001b[0m \u001b[0maxis\u001b[0m\u001b[1;33m,\u001b[0m \u001b[0mmean\u001b[0m\u001b[1;33m=\u001b[0m\u001b[0mmean\u001b[0m\u001b[1;33m)\u001b[0m\u001b[1;33m\u001b[0m\u001b[1;33m\u001b[0m\u001b[0m\n",
      "\u001b[1;32m~\\anaconda3\\lib\\site-packages\\numpy\\core\\_methods.py\u001b[0m in \u001b[0;36m_mean\u001b[1;34m(a, axis, dtype, out, keepdims, where)\u001b[0m\n\u001b[0;32m    178\u001b[0m     \u001b[0mret\u001b[0m \u001b[1;33m=\u001b[0m \u001b[0mumr_sum\u001b[0m\u001b[1;33m(\u001b[0m\u001b[0marr\u001b[0m\u001b[1;33m,\u001b[0m \u001b[0maxis\u001b[0m\u001b[1;33m,\u001b[0m \u001b[0mdtype\u001b[0m\u001b[1;33m,\u001b[0m \u001b[0mout\u001b[0m\u001b[1;33m,\u001b[0m \u001b[0mkeepdims\u001b[0m\u001b[1;33m,\u001b[0m \u001b[0mwhere\u001b[0m\u001b[1;33m=\u001b[0m\u001b[0mwhere\u001b[0m\u001b[1;33m)\u001b[0m\u001b[1;33m\u001b[0m\u001b[1;33m\u001b[0m\u001b[0m\n\u001b[0;32m    179\u001b[0m     \u001b[1;32mif\u001b[0m \u001b[0misinstance\u001b[0m\u001b[1;33m(\u001b[0m\u001b[0mret\u001b[0m\u001b[1;33m,\u001b[0m \u001b[0mmu\u001b[0m\u001b[1;33m.\u001b[0m\u001b[0mndarray\u001b[0m\u001b[1;33m)\u001b[0m\u001b[1;33m:\u001b[0m\u001b[1;33m\u001b[0m\u001b[1;33m\u001b[0m\u001b[0m\n\u001b[1;32m--> 180\u001b[1;33m         ret = um.true_divide(\n\u001b[0m\u001b[0;32m    181\u001b[0m                 ret, rcount, out=ret, casting='unsafe', subok=False)\n\u001b[0;32m    182\u001b[0m         \u001b[1;32mif\u001b[0m \u001b[0mis_float16_result\u001b[0m \u001b[1;32mand\u001b[0m \u001b[0mout\u001b[0m \u001b[1;32mis\u001b[0m \u001b[1;32mNone\u001b[0m\u001b[1;33m:\u001b[0m\u001b[1;33m\u001b[0m\u001b[1;33m\u001b[0m\u001b[0m\n",
      "\u001b[1;31mTypeError\u001b[0m: unsupported operand type(s) for /: 'str' and 'int'"
     ]
    }
   ],
   "source": [
    "for col in df:\n",
    "    print(col)\n",
    "    print(skew(df[col]))\n",
    "    \n",
    "    \n",
    "    plt.figure()\n",
    "    sns.distplot(df[col])\n",
    "    plt.show()"
   ]
  },
  {
   "cell_type": "code",
   "execution_count": null,
   "id": "0d364fd1",
   "metadata": {},
   "outputs": [],
   "source": []
  },
  {
   "cell_type": "code",
   "execution_count": null,
   "id": "ca650f5f",
   "metadata": {},
   "outputs": [],
   "source": []
  },
  {
   "cell_type": "code",
   "execution_count": null,
   "id": "88f16edd",
   "metadata": {},
   "outputs": [],
   "source": []
  },
  {
   "cell_type": "code",
   "execution_count": null,
   "id": "308a0793",
   "metadata": {},
   "outputs": [],
   "source": []
  },
  {
   "cell_type": "code",
   "execution_count": null,
   "id": "31acc324",
   "metadata": {},
   "outputs": [],
   "source": []
  },
  {
   "cell_type": "code",
   "execution_count": null,
   "id": "a39fe7a1",
   "metadata": {},
   "outputs": [],
   "source": []
  },
  {
   "cell_type": "code",
   "execution_count": null,
   "id": "048505f3",
   "metadata": {},
   "outputs": [],
   "source": []
  },
  {
   "cell_type": "code",
   "execution_count": null,
   "id": "d28a5272",
   "metadata": {},
   "outputs": [],
   "source": []
  },
  {
   "cell_type": "code",
   "execution_count": null,
   "id": "3ab23e27",
   "metadata": {},
   "outputs": [],
   "source": []
  },
  {
   "cell_type": "code",
   "execution_count": null,
   "id": "bde92030",
   "metadata": {},
   "outputs": [],
   "source": []
  },
  {
   "cell_type": "code",
   "execution_count": null,
   "id": "2f7613ac",
   "metadata": {},
   "outputs": [],
   "source": []
  }
 ],
 "metadata": {
  "kernelspec": {
   "display_name": "Python 3 (ipykernel)",
   "language": "python",
   "name": "python3"
  },
  "language_info": {
   "codemirror_mode": {
    "name": "ipython",
    "version": 3
   },
   "file_extension": ".py",
   "mimetype": "text/x-python",
   "name": "python",
   "nbconvert_exporter": "python",
   "pygments_lexer": "ipython3",
   "version": "3.9.7"
  }
 },
 "nbformat": 4,
 "nbformat_minor": 5
}
